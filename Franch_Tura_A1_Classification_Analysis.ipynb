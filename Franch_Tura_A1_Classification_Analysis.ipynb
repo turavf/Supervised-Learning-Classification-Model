{
 "cells": [
  {
   "cell_type": "code",
   "execution_count": 1,
   "id": "7f45f4d5",
   "metadata": {},
   "outputs": [
    {
     "data": {
      "text/plain": [
       "'\\nPurpose of this project: \\n    Predict the causes of low birth weight.\\n    Steps: \\n    1) Importing Dataset\\n    2) Preparing the Data\\n    3) Creating the Base Model\\n    4) Logistic Model\\n    5) Classification Tree\\n    6) Random Forest\\n    7) Gradient Boosting\\n    8) Model Comparison\\n    \\n'"
      ]
     },
     "execution_count": 1,
     "metadata": {},
     "output_type": "execute_result"
    }
   ],
   "source": [
    "#Introduction\n",
    "\"\"\"\n",
    "Purpose of this project: \n",
    "    Predict the causes of low birth weight.\n",
    "    Steps: \n",
    "    1) Importing Dataset\n",
    "    2) Preparing the Data\n",
    "    3) Creating the Base Model\n",
    "    4) Logistic Model\n",
    "    5) Classification Tree\n",
    "    6) Random Forest\n",
    "    7) Gradient Boosting\n",
    "    8) Model Comparison\n",
    "    \n",
    "\"\"\""
   ]
  },
  {
   "cell_type": "markdown",
   "id": "d19c60fd",
   "metadata": {},
   "source": [
    "# Importing Dataset"
   ]
  },
  {
   "cell_type": "code",
   "execution_count": 2,
   "id": "144af897",
   "metadata": {},
   "outputs": [
    {
     "data": {
      "text/html": [
       "<div>\n",
       "<style scoped>\n",
       "    .dataframe tbody tr th:only-of-type {\n",
       "        vertical-align: middle;\n",
       "    }\n",
       "\n",
       "    .dataframe tbody tr th {\n",
       "        vertical-align: top;\n",
       "    }\n",
       "\n",
       "    .dataframe thead th {\n",
       "        text-align: right;\n",
       "    }\n",
       "</style>\n",
       "<table border=\"1\" class=\"dataframe\">\n",
       "  <thead>\n",
       "    <tr style=\"text-align: right;\">\n",
       "      <th></th>\n",
       "      <th>S.No</th>\n",
       "      <th>name</th>\n",
       "      <th>title</th>\n",
       "      <th>culture</th>\n",
       "      <th>dateOfBirth</th>\n",
       "      <th>mother</th>\n",
       "      <th>father</th>\n",
       "      <th>heir</th>\n",
       "      <th>house</th>\n",
       "      <th>spouse</th>\n",
       "      <th>book1_A_Game_Of_Thrones</th>\n",
       "      <th>book2_A_Clash_Of_Kings</th>\n",
       "      <th>book3_A_Storm_Of_Swords</th>\n",
       "      <th>book4_A_Feast_For_Crows</th>\n",
       "      <th>book5_A_Dance_with_Dragons</th>\n",
       "      <th>isAliveMother</th>\n",
       "      <th>isAliveFather</th>\n",
       "      <th>isAliveHeir</th>\n",
       "      <th>isAliveSpouse</th>\n",
       "      <th>isMarried</th>\n",
       "      <th>isNoble</th>\n",
       "      <th>age</th>\n",
       "      <th>numDeadRelations</th>\n",
       "      <th>popularity</th>\n",
       "      <th>isAlive</th>\n",
       "    </tr>\n",
       "  </thead>\n",
       "  <tbody>\n",
       "    <tr>\n",
       "      <th>0</th>\n",
       "      <td>1</td>\n",
       "      <td>Viserys II Targaryen</td>\n",
       "      <td>NaN</td>\n",
       "      <td>NaN</td>\n",
       "      <td>NaN</td>\n",
       "      <td>Rhaenyra Targaryen</td>\n",
       "      <td>Daemon Targaryen</td>\n",
       "      <td>Aegon IV Targaryen</td>\n",
       "      <td>NaN</td>\n",
       "      <td>NaN</td>\n",
       "      <td>0</td>\n",
       "      <td>0</td>\n",
       "      <td>0</td>\n",
       "      <td>0</td>\n",
       "      <td>0</td>\n",
       "      <td>1.0</td>\n",
       "      <td>0.0</td>\n",
       "      <td>0.0</td>\n",
       "      <td>NaN</td>\n",
       "      <td>0</td>\n",
       "      <td>0</td>\n",
       "      <td>NaN</td>\n",
       "      <td>11</td>\n",
       "      <td>0.605351</td>\n",
       "      <td>0</td>\n",
       "    </tr>\n",
       "    <tr>\n",
       "      <th>1</th>\n",
       "      <td>2</td>\n",
       "      <td>Walder Frey</td>\n",
       "      <td>Lord of the Crossing</td>\n",
       "      <td>Rivermen</td>\n",
       "      <td>208.0</td>\n",
       "      <td>NaN</td>\n",
       "      <td>NaN</td>\n",
       "      <td>NaN</td>\n",
       "      <td>House Frey</td>\n",
       "      <td>Perra Royce</td>\n",
       "      <td>1</td>\n",
       "      <td>1</td>\n",
       "      <td>1</td>\n",
       "      <td>1</td>\n",
       "      <td>1</td>\n",
       "      <td>NaN</td>\n",
       "      <td>NaN</td>\n",
       "      <td>NaN</td>\n",
       "      <td>1.0</td>\n",
       "      <td>1</td>\n",
       "      <td>1</td>\n",
       "      <td>97.0</td>\n",
       "      <td>1</td>\n",
       "      <td>0.896321</td>\n",
       "      <td>1</td>\n",
       "    </tr>\n",
       "    <tr>\n",
       "      <th>2</th>\n",
       "      <td>3</td>\n",
       "      <td>Addison Hill</td>\n",
       "      <td>Ser</td>\n",
       "      <td>NaN</td>\n",
       "      <td>NaN</td>\n",
       "      <td>NaN</td>\n",
       "      <td>NaN</td>\n",
       "      <td>NaN</td>\n",
       "      <td>House Swyft</td>\n",
       "      <td>NaN</td>\n",
       "      <td>0</td>\n",
       "      <td>0</td>\n",
       "      <td>0</td>\n",
       "      <td>1</td>\n",
       "      <td>0</td>\n",
       "      <td>NaN</td>\n",
       "      <td>NaN</td>\n",
       "      <td>NaN</td>\n",
       "      <td>NaN</td>\n",
       "      <td>0</td>\n",
       "      <td>1</td>\n",
       "      <td>NaN</td>\n",
       "      <td>0</td>\n",
       "      <td>0.267559</td>\n",
       "      <td>1</td>\n",
       "    </tr>\n",
       "    <tr>\n",
       "      <th>3</th>\n",
       "      <td>4</td>\n",
       "      <td>Aemma Arryn</td>\n",
       "      <td>Queen</td>\n",
       "      <td>NaN</td>\n",
       "      <td>82.0</td>\n",
       "      <td>NaN</td>\n",
       "      <td>NaN</td>\n",
       "      <td>NaN</td>\n",
       "      <td>House Arryn</td>\n",
       "      <td>Viserys I Targaryen</td>\n",
       "      <td>0</td>\n",
       "      <td>0</td>\n",
       "      <td>0</td>\n",
       "      <td>0</td>\n",
       "      <td>0</td>\n",
       "      <td>NaN</td>\n",
       "      <td>NaN</td>\n",
       "      <td>NaN</td>\n",
       "      <td>0.0</td>\n",
       "      <td>1</td>\n",
       "      <td>1</td>\n",
       "      <td>23.0</td>\n",
       "      <td>0</td>\n",
       "      <td>0.183946</td>\n",
       "      <td>0</td>\n",
       "    </tr>\n",
       "    <tr>\n",
       "      <th>4</th>\n",
       "      <td>5</td>\n",
       "      <td>Sylva Santagar</td>\n",
       "      <td>Greenstone</td>\n",
       "      <td>Dornish</td>\n",
       "      <td>276.0</td>\n",
       "      <td>NaN</td>\n",
       "      <td>NaN</td>\n",
       "      <td>NaN</td>\n",
       "      <td>House Santagar</td>\n",
       "      <td>Eldon Estermont</td>\n",
       "      <td>0</td>\n",
       "      <td>0</td>\n",
       "      <td>0</td>\n",
       "      <td>1</td>\n",
       "      <td>0</td>\n",
       "      <td>NaN</td>\n",
       "      <td>NaN</td>\n",
       "      <td>NaN</td>\n",
       "      <td>1.0</td>\n",
       "      <td>1</td>\n",
       "      <td>1</td>\n",
       "      <td>29.0</td>\n",
       "      <td>0</td>\n",
       "      <td>0.043478</td>\n",
       "      <td>1</td>\n",
       "    </tr>\n",
       "  </tbody>\n",
       "</table>\n",
       "</div>"
      ],
      "text/plain": [
       "   S.No                  name                 title   culture  dateOfBirth              mother            father                heir           house               spouse  book1_A_Game_Of_Thrones  book2_A_Clash_Of_Kings  book3_A_Storm_Of_Swords  book4_A_Feast_For_Crows  book5_A_Dance_with_Dragons  isAliveMother  isAliveFather  isAliveHeir  isAliveSpouse  isMarried  isNoble   age  numDeadRelations  popularity  isAlive\n",
       "0     1  Viserys II Targaryen                   NaN       NaN          NaN  Rhaenyra Targaryen  Daemon Targaryen  Aegon IV Targaryen             NaN                  NaN                        0                       0                        0                        0                           0            1.0            0.0          0.0            NaN          0        0   NaN                11    0.605351        0\n",
       "1     2           Walder Frey  Lord of the Crossing  Rivermen        208.0                 NaN               NaN                 NaN      House Frey          Perra Royce                        1                       1                        1                        1                           1            NaN            NaN          NaN            1.0          1        1  97.0                 1    0.896321        1\n",
       "2     3          Addison Hill                   Ser       NaN          NaN                 NaN               NaN                 NaN     House Swyft                  NaN                        0                       0                        0                        1                           0            NaN            NaN          NaN            NaN          0        1   NaN                 0    0.267559        1\n",
       "3     4           Aemma Arryn                 Queen       NaN         82.0                 NaN               NaN                 NaN     House Arryn  Viserys I Targaryen                        0                       0                        0                        0                           0            NaN            NaN          NaN            0.0          1        1  23.0                 0    0.183946        0\n",
       "4     5        Sylva Santagar            Greenstone   Dornish        276.0                 NaN               NaN                 NaN  House Santagar      Eldon Estermont                        0                       0                        0                        1                           0            NaN            NaN          NaN            1.0          1        1  29.0                 0    0.043478        1"
      ]
     },
     "execution_count": 2,
     "metadata": {},
     "output_type": "execute_result"
    }
   ],
   "source": [
    "# importing libraries\n",
    "import pandas as pd # data science essentials\n",
    "import matplotlib.pyplot as plt # data visualization\n",
    "import seaborn as sns # enhanced data viz\n",
    "from sklearn.model_selection import train_test_split # train-test split\n",
    "from sklearn.linear_model import LogisticRegression # logistic regression\n",
    "import statsmodels.formula.api as smf # logistic regression\n",
    "from sklearn.metrics import confusion_matrix # confusion matrix\n",
    "from sklearn.metrics import roc_auc_score # auc score\n",
    "from sklearn.neighbors import KNeighborsClassifier # KNN for classification\n",
    "from sklearn.neighbors import KNeighborsRegressor # KNN for regression\n",
    "from sklearn.preprocessing import StandardScaler # standard scaler\n",
    "from sklearn.tree import DecisionTreeClassifier # classification trees\n",
    "from sklearn.tree import plot_tree # tree plots\n",
    "from sklearn.model_selection import RandomizedSearchCV # hyperparameter tuning\n",
    "from sklearn.metrics import make_scorer # customizable scorer\n",
    "from sklearn.ensemble import RandomForestClassifier     # random forest\n",
    "from sklearn.ensemble import GradientBoostingClassifier # gbm\n",
    "\n",
    "# setting pandas print options\n",
    "pd.set_option('display.max_rows', 500)\n",
    "pd.set_option('display.max_columns', 500)\n",
    "pd.set_option('display.width', 1000)\n",
    "\n",
    "# specifying the path and file name\n",
    "file = \"./GOT_character_predictions.xlsx\"\n",
    "\n",
    "GOT_bbdd = pd.read_excel(file)\n",
    "\n",
    "# checking the file\n",
    "GOT_bbdd.head(n=5)"
   ]
  },
  {
   "cell_type": "code",
   "execution_count": 3,
   "id": "e8e6a7e0",
   "metadata": {},
   "outputs": [
    {
     "name": "stdout",
     "output_type": "stream",
     "text": [
      "\n",
      "Size of Original Dataset\n",
      "------------------------\n",
      "Observations: 1946\n",
      "Features:     25\n",
      "\n",
      "<class 'pandas.core.frame.DataFrame'>\n",
      "RangeIndex: 1946 entries, 0 to 1945\n",
      "Data columns (total 25 columns):\n",
      " #   Column                      Non-Null Count  Dtype  \n",
      "---  ------                      --------------  -----  \n",
      " 0   S.No                        1946 non-null   int64  \n",
      " 1   name                        1946 non-null   object \n",
      " 2   title                       938 non-null    object \n",
      " 3   culture                     677 non-null    object \n",
      " 4   dateOfBirth                 433 non-null    float64\n",
      " 5   mother                      21 non-null     object \n",
      " 6   father                      26 non-null     object \n",
      " 7   heir                        23 non-null     object \n",
      " 8   house                       1519 non-null   object \n",
      " 9   spouse                      276 non-null    object \n",
      " 10  book1_A_Game_Of_Thrones     1946 non-null   int64  \n",
      " 11  book2_A_Clash_Of_Kings      1946 non-null   int64  \n",
      " 12  book3_A_Storm_Of_Swords     1946 non-null   int64  \n",
      " 13  book4_A_Feast_For_Crows     1946 non-null   int64  \n",
      " 14  book5_A_Dance_with_Dragons  1946 non-null   int64  \n",
      " 15  isAliveMother               21 non-null     float64\n",
      " 16  isAliveFather               26 non-null     float64\n",
      " 17  isAliveHeir                 23 non-null     float64\n",
      " 18  isAliveSpouse               276 non-null    float64\n",
      " 19  isMarried                   1946 non-null   int64  \n",
      " 20  isNoble                     1946 non-null   int64  \n",
      " 21  age                         433 non-null    float64\n",
      " 22  numDeadRelations            1946 non-null   int64  \n",
      " 23  popularity                  1946 non-null   float64\n",
      " 24  isAlive                     1946 non-null   int64  \n",
      "dtypes: float64(7), int64(10), object(8)\n",
      "memory usage: 380.2+ KB\n"
     ]
    }
   ],
   "source": [
    "#printing dataset size and columns information\n",
    "print(f\"\"\"\n",
    "Size of Original Dataset\n",
    "------------------------\n",
    "Observations: {GOT_bbdd.shape[0]}\n",
    "Features:     {GOT_bbdd.shape[1]}\n",
    "\"\"\")\n",
    "GOT_bbdd.info()"
   ]
  },
  {
   "cell_type": "markdown",
   "id": "79741748",
   "metadata": {},
   "source": [
    "# Preparing the data"
   ]
  },
  {
   "cell_type": "markdown",
   "id": "30fbdae7",
   "metadata": {},
   "source": [
    "## Missing Values"
   ]
  },
  {
   "cell_type": "code",
   "execution_count": 4,
   "id": "4227c986",
   "metadata": {},
   "outputs": [
    {
     "data": {
      "text/plain": [
       "S.No                             0\n",
       "name                             0\n",
       "title                         1008\n",
       "culture                       1269\n",
       "dateOfBirth                   1513\n",
       "mother                        1925\n",
       "father                        1920\n",
       "heir                          1923\n",
       "house                          427\n",
       "spouse                        1670\n",
       "book1_A_Game_Of_Thrones          0\n",
       "book2_A_Clash_Of_Kings           0\n",
       "book3_A_Storm_Of_Swords          0\n",
       "book4_A_Feast_For_Crows          0\n",
       "book5_A_Dance_with_Dragons       0\n",
       "isAliveMother                 1925\n",
       "isAliveFather                 1920\n",
       "isAliveHeir                   1923\n",
       "isAliveSpouse                 1670\n",
       "isMarried                        0\n",
       "isNoble                          0\n",
       "age                           1513\n",
       "numDeadRelations                 0\n",
       "popularity                       0\n",
       "isAlive                          0\n",
       "dtype: int64"
      ]
     },
     "execution_count": 4,
     "metadata": {},
     "output_type": "execute_result"
    }
   ],
   "source": [
    "# checking each data point for missing values through method chaining\n",
    "GOT_bbdd.isnull().sum(axis = 0)"
   ]
  },
  {
   "cell_type": "code",
   "execution_count": 5,
   "id": "2ad7d07d",
   "metadata": {},
   "outputs": [],
   "source": [
    "#making a copy of the dataset\n",
    "GOT = GOT_bbdd"
   ]
  },
  {
   "cell_type": "code",
   "execution_count": 6,
   "id": "3a27b067",
   "metadata": {},
   "outputs": [
    {
     "name": "stdout",
     "output_type": "stream",
     "text": [
      "count              1519\n",
      "unique              347\n",
      "top       Night's Watch\n",
      "freq                105\n",
      "Name: house, dtype: object\n"
     ]
    },
    {
     "data": {
      "image/png": "[encoded data removed]",
      "text/plain": [
       "<Figure size 432x288 with 1 Axes>"
      ]
     },
     "metadata": {
      "needs_background": "light"
     },
     "output_type": "display_data"
    }
   ],
   "source": [
    "#checking the distribution of the columns with missing values\n",
    "house_dist = GOT['house'].describe()\n",
    "print(house_dist)\n",
    "\n",
    "#constructing the histplot\n",
    "sns.histplot(data  = GOT,\n",
    "         x     = 'house',\n",
    "        kde    = True)\n",
    "\n",
    "plt.title(label   = \"Distribution house\")\n",
    "plt.xlabel(xlabel = \"Allegiance to a house\") \n",
    "plt.ylabel(ylabel = \"Count\")\n",
    "\n",
    "plt.show()"
   ]
  },
  {
   "cell_type": "code",
   "execution_count": 7,
   "id": "26ca06ae",
   "metadata": {},
   "outputs": [],
   "source": [
    "#Replacing the missing values with the mode\n",
    "house_mode = GOT['house'].mode()\n",
    "\n",
    "GOT['house'].fillna(value = house_mode,\n",
    "                         inplace = True)"
   ]
  },
  {
   "cell_type": "markdown",
   "id": "cc3c8e1e",
   "metadata": {},
   "source": [
    "# Base Model"
   ]
  },
  {
   "cell_type": "code",
   "execution_count": 8,
   "id": "e5bd0dc2",
   "metadata": {},
   "outputs": [
    {
     "data": {
      "text/plain": [
       "isAlive                       1.00\n",
       "isAliveHeir                   0.38\n",
       "book4_A_Feast_For_Crows       0.27\n",
       "isAliveFather                 0.20\n",
       "isAliveSpouse                 0.17\n",
       "age                           0.09\n",
       "book5_A_Dance_with_Dragons    0.03\n",
       "book3_A_Storm_Of_Swords       0.01\n",
       "isAliveMother                -0.04\n",
       "isNoble                      -0.04\n",
       "isMarried                    -0.05\n",
       "book2_A_Clash_Of_Kings       -0.07\n",
       "dateOfBirth                  -0.09\n",
       "S.No                         -0.13\n",
       "book1_A_Game_Of_Thrones      -0.15\n",
       "popularity                   -0.18\n",
       "numDeadRelations             -0.19\n",
       "Name: isAlive, dtype: float64"
      ]
     },
     "execution_count": 8,
     "metadata": {},
     "output_type": "execute_result"
    }
   ],
   "source": [
    "df_corr = GOT.corr(method = 'pearson').round(decimals=2)\n",
    "\n",
    "df_corr['isAlive'].sort_values(ascending = False)"
   ]
  },
  {
   "cell_type": "code",
   "execution_count": 9,
   "id": "732201aa",
   "metadata": {},
   "outputs": [
    {
     "data": {
      "text/plain": [
       "1    0.75\n",
       "0    0.25\n",
       "Name: isAlive, dtype: float64"
      ]
     },
     "execution_count": 9,
     "metadata": {},
     "output_type": "execute_result"
    }
   ],
   "source": [
    "GOT.loc[ : ,'isAlive'].value_counts(normalize = True).round(decimals = 2)"
   ]
  },
  {
   "cell_type": "markdown",
   "id": "2dcf7798",
   "metadata": {},
   "source": [
    "## Regressions"
   ]
  },
  {
   "cell_type": "code",
   "execution_count": 10,
   "id": "9f924069",
   "metadata": {},
   "outputs": [],
   "source": [
    "#creting new variables to improve the model\n",
    "GOT['long_term_pop'] = GOT['popularity']*GOT['book4_A_Feast_For_Crows']\n",
    "GOT['imp'] = GOT['isNoble']*GOT['isMarried']*GOT['numDeadRelations']"
   ]
  },
  {
   "cell_type": "code",
   "execution_count": 11,
   "id": "0ead9cb6",
   "metadata": {},
   "outputs": [
    {
     "name": "stdout",
     "output_type": "stream",
     "text": [
      "Optimization terminated successfully.\n",
      "         Current function value: 0.486201\n",
      "         Iterations 7\n"
     ]
    },
    {
     "data": {
      "text/html": [
       "<table class=\"simpletable\">\n",
       "<tr>\n",
       "        <td>Model:</td>              <td>Logit</td>      <td>Pseudo R-squared:</td>    <td>0.143</td>  \n",
       "</tr>\n",
       "<tr>\n",
       "  <td>Dependent Variable:</td>      <td>isAlive</td>           <td>AIC:</td>         <td>1914.2942</td>\n",
       "</tr>\n",
       "<tr>\n",
       "         <td>Date:</td>        <td>2021-12-05 17:17</td>       <td>BIC:</td>         <td>1975.6031</td>\n",
       "</tr>\n",
       "<tr>\n",
       "   <td>No. Observations:</td>        <td>1946</td>        <td>Log-Likelihood:</td>    <td>-946.15</td> \n",
       "</tr>\n",
       "<tr>\n",
       "       <td>Df Model:</td>             <td>10</td>            <td>LL-Null:</td>        <td>-1103.5</td> \n",
       "</tr>\n",
       "<tr>\n",
       "     <td>Df Residuals:</td>          <td>1935</td>         <td>LLR p-value:</td>    <td>1.1544e-61</td>\n",
       "</tr>\n",
       "<tr>\n",
       "      <td>Converged:</td>           <td>1.0000</td>           <td>Scale:</td>         <td>1.0000</td>  \n",
       "</tr>\n",
       "<tr>\n",
       "    <td>No. Iterations:</td>        <td>7.0000</td>              <td></td>               <td></td>     \n",
       "</tr>\n",
       "</table>\n",
       "<table class=\"simpletable\">\n",
       "<tr>\n",
       "               <td></td>               <th>Coef.</th>  <th>Std.Err.</th>    <th>z</th>     <th>P>|z|</th> <th>[0.025</th>  <th>0.975]</th> \n",
       "</tr>\n",
       "<tr>\n",
       "  <th>Intercept</th>                  <td>1.1920</td>   <td>0.1140</td>  <td>10.4604</td> <td>0.0000</td> <td>0.9687</td>  <td>1.4154</td> \n",
       "</tr>\n",
       "<tr>\n",
       "  <th>book4_A_Feast_For_Crows</th>    <td>1.3326</td>   <td>0.1546</td>  <td>8.6175</td>  <td>0.0000</td> <td>1.0295</td>  <td>1.6356</td> \n",
       "</tr>\n",
       "<tr>\n",
       "  <th>book5_A_Dance_with_Dragons</th> <td>-0.0575</td>  <td>0.1357</td>  <td>-0.4240</td> <td>0.6716</td> <td>-0.3236</td> <td>0.2085</td> \n",
       "</tr>\n",
       "<tr>\n",
       "  <th>book3_A_Storm_Of_Swords</th>    <td>-0.3675</td>  <td>0.1393</td>  <td>-2.6381</td> <td>0.0083</td> <td>-0.6405</td> <td>-0.0945</td>\n",
       "</tr>\n",
       "<tr>\n",
       "  <th>isNoble</th>                    <td>-0.1947</td>  <td>0.1189</td>  <td>-1.6373</td> <td>0.1016</td> <td>-0.4278</td> <td>0.0384</td> \n",
       "</tr>\n",
       "<tr>\n",
       "  <th>isMarried</th>                  <td>-0.1238</td>  <td>0.1740</td>  <td>-0.7114</td> <td>0.4768</td> <td>-0.4648</td> <td>0.2172</td> \n",
       "</tr>\n",
       "<tr>\n",
       "  <th>book2_A_Clash_Of_Kings</th>     <td>-0.3094</td>  <td>0.1359</td>  <td>-2.2769</td> <td>0.0228</td> <td>-0.5757</td> <td>-0.0431</td>\n",
       "</tr>\n",
       "<tr>\n",
       "  <th>book1_A_Game_Of_Thrones</th>    <td>-0.7089</td>  <td>0.1500</td>  <td>-4.7270</td> <td>0.0000</td> <td>-1.0029</td> <td>-0.4150</td>\n",
       "</tr>\n",
       "<tr>\n",
       "  <th>popularity</th>                 <td>-5.6686</td>  <td>1.0610</td>  <td>-5.3426</td> <td>0.0000</td> <td>-7.7482</td> <td>-3.5890</td>\n",
       "</tr>\n",
       "<tr>\n",
       "  <th>long_term_pop</th>              <td>5.7428</td>   <td>1.1203</td>  <td>5.1261</td>  <td>0.0000</td> <td>3.5470</td>  <td>7.9385</td> \n",
       "</tr>\n",
       "<tr>\n",
       "  <th>numDeadRelations</th>           <td>-0.1356</td>  <td>0.0522</td>  <td>-2.5976</td> <td>0.0094</td> <td>-0.2379</td> <td>-0.0333</td>\n",
       "</tr>\n",
       "</table>"
      ],
      "text/plain": [
       "<class 'statsmodels.iolib.summary2.Summary'>\n",
       "\"\"\"\n",
       "                              Results: Logit\n",
       "==========================================================================\n",
       "Model:                 Logit               Pseudo R-squared:    0.143     \n",
       "Dependent Variable:    isAlive             AIC:                 1914.2942 \n",
       "Date:                  2021-12-05 17:17    BIC:                 1975.6031 \n",
       "No. Observations:      1946                Log-Likelihood:      -946.15   \n",
       "Df Model:              10                  LL-Null:             -1103.5   \n",
       "Df Residuals:          1935                LLR p-value:         1.1544e-61\n",
       "Converged:             1.0000              Scale:               1.0000    \n",
       "No. Iterations:        7.0000                                             \n",
       "--------------------------------------------------------------------------\n",
       "                            Coef.  Std.Err.    z    P>|z|   [0.025  0.975]\n",
       "--------------------------------------------------------------------------\n",
       "Intercept                   1.1920   0.1140 10.4604 0.0000  0.9687  1.4154\n",
       "book4_A_Feast_For_Crows     1.3326   0.1546  8.6175 0.0000  1.0295  1.6356\n",
       "book5_A_Dance_with_Dragons -0.0575   0.1357 -0.4240 0.6716 -0.3236  0.2085\n",
       "book3_A_Storm_Of_Swords    -0.3675   0.1393 -2.6381 0.0083 -0.6405 -0.0945\n",
       "isNoble                    -0.1947   0.1189 -1.6373 0.1016 -0.4278  0.0384\n",
       "isMarried                  -0.1238   0.1740 -0.7114 0.4768 -0.4648  0.2172\n",
       "book2_A_Clash_Of_Kings     -0.3094   0.1359 -2.2769 0.0228 -0.5757 -0.0431\n",
       "book1_A_Game_Of_Thrones    -0.7089   0.1500 -4.7270 0.0000 -1.0029 -0.4150\n",
       "popularity                 -5.6686   1.0610 -5.3426 0.0000 -7.7482 -3.5890\n",
       "long_term_pop               5.7428   1.1203  5.1261 0.0000  3.5470  7.9385\n",
       "numDeadRelations           -0.1356   0.0522 -2.5976 0.0094 -0.2379 -0.0333\n",
       "==========================================================================\n",
       "\n",
       "\"\"\""
      ]
     },
     "execution_count": 11,
     "metadata": {},
     "output_type": "execute_result"
    }
   ],
   "source": [
    "# instantiating a logistic regression model object\n",
    "logit_full = smf.logit(formula = \"\"\" isAlive~\n",
    "                                    book4_A_Feast_For_Crows+\n",
    "                                    book5_A_Dance_with_Dragons+\n",
    "                                    book3_A_Storm_Of_Swords+\n",
    "                                    isNoble+\n",
    "                                    isMarried+\n",
    "                                    book2_A_Clash_Of_Kings+\n",
    "                                    book1_A_Game_Of_Thrones+\n",
    "                                    popularity+\n",
    "                                    long_term_pop+\n",
    "                                    numDeadRelations\"\"\",\n",
    "                                     data    = GOT)\n",
    "\n",
    "\n",
    "# fitting the model object\n",
    "logit_full = logit_full.fit()\n",
    "\n",
    "\n",
    "# checking the results SUMMARY\n",
    "logit_full. summary2()"
   ]
  },
  {
   "cell_type": "code",
   "execution_count": 12,
   "id": "a4bce83b",
   "metadata": {},
   "outputs": [
    {
     "name": "stdout",
     "output_type": "stream",
     "text": [
      "Optimization terminated successfully.\n",
      "         Current function value: 0.496248\n",
      "         Iterations 6\n"
     ]
    },
    {
     "data": {
      "text/html": [
       "<table class=\"simpletable\">\n",
       "<tr>\n",
       "        <td>Model:</td>              <td>Logit</td>      <td>Pseudo R-squared:</td>    <td>0.125</td>  \n",
       "</tr>\n",
       "<tr>\n",
       "  <td>Dependent Variable:</td>      <td>isAlive</td>           <td>AIC:</td>         <td>1947.3986</td>\n",
       "</tr>\n",
       "<tr>\n",
       "         <td>Date:</td>        <td>2021-12-05 17:17</td>       <td>BIC:</td>         <td>1991.9868</td>\n",
       "</tr>\n",
       "<tr>\n",
       "   <td>No. Observations:</td>        <td>1946</td>        <td>Log-Likelihood:</td>    <td>-965.70</td> \n",
       "</tr>\n",
       "<tr>\n",
       "       <td>Df Model:</td>              <td>7</td>            <td>LL-Null:</td>        <td>-1103.5</td> \n",
       "</tr>\n",
       "<tr>\n",
       "     <td>Df Residuals:</td>          <td>1938</td>         <td>LLR p-value:</td>    <td>9.3258e-56</td>\n",
       "</tr>\n",
       "<tr>\n",
       "      <td>Converged:</td>           <td>1.0000</td>           <td>Scale:</td>         <td>1.0000</td>  \n",
       "</tr>\n",
       "<tr>\n",
       "    <td>No. Iterations:</td>        <td>6.0000</td>              <td></td>               <td></td>     \n",
       "</tr>\n",
       "</table>\n",
       "<table class=\"simpletable\">\n",
       "<tr>\n",
       "             <td></td>              <th>Coef.</th>  <th>Std.Err.</th>    <th>z</th>     <th>P>|z|</th> <th>[0.025</th>  <th>0.975]</th> \n",
       "</tr>\n",
       "<tr>\n",
       "  <th>Intercept</th>               <td>0.8883</td>   <td>0.0985</td>  <td>9.0214</td>  <td>0.0000</td> <td>0.6953</td>  <td>1.0813</td> \n",
       "</tr>\n",
       "<tr>\n",
       "  <th>book4_A_Feast_For_Crows</th> <td>1.6680</td>   <td>0.1334</td>  <td>12.5046</td> <td>0.0000</td> <td>1.4066</td>  <td>1.9295</td> \n",
       "</tr>\n",
       "<tr>\n",
       "  <th>book3_A_Storm_Of_Swords</th> <td>-0.3130</td>  <td>0.1363</td>  <td>-2.2973</td> <td>0.0216</td> <td>-0.5801</td> <td>-0.0460</td>\n",
       "</tr>\n",
       "<tr>\n",
       "  <th>isNoble</th>                 <td>-0.1898</td>  <td>0.1150</td>  <td>-1.6502</td> <td>0.0989</td> <td>-0.4152</td> <td>0.0356</td> \n",
       "</tr>\n",
       "<tr>\n",
       "  <th>book2_A_Clash_Of_Kings</th>  <td>-0.2367</td>  <td>0.1333</td>  <td>-1.7747</td> <td>0.0759</td> <td>-0.4980</td> <td>0.0247</td> \n",
       "</tr>\n",
       "<tr>\n",
       "  <th>book1_A_Game_Of_Thrones</th> <td>-0.5735</td>  <td>0.1452</td>  <td>-3.9483</td> <td>0.0001</td> <td>-0.8582</td> <td>-0.2888</td>\n",
       "</tr>\n",
       "<tr>\n",
       "  <th>popularity</th>              <td>-1.4584</td>  <td>0.4207</td>  <td>-3.4668</td> <td>0.0005</td> <td>-2.2829</td> <td>-0.6339</td>\n",
       "</tr>\n",
       "<tr>\n",
       "  <th>numDeadRelations</th>        <td>-0.1443</td>  <td>0.0485</td>  <td>-2.9734</td> <td>0.0029</td> <td>-0.2395</td> <td>-0.0492</td>\n",
       "</tr>\n",
       "</table>"
      ],
      "text/plain": [
       "<class 'statsmodels.iolib.summary2.Summary'>\n",
       "\"\"\"\n",
       "                            Results: Logit\n",
       "=======================================================================\n",
       "Model:                Logit              Pseudo R-squared:   0.125     \n",
       "Dependent Variable:   isAlive            AIC:                1947.3986 \n",
       "Date:                 2021-12-05 17:17   BIC:                1991.9868 \n",
       "No. Observations:     1946               Log-Likelihood:     -965.70   \n",
       "Df Model:             7                  LL-Null:            -1103.5   \n",
       "Df Residuals:         1938               LLR p-value:        9.3258e-56\n",
       "Converged:            1.0000             Scale:              1.0000    \n",
       "No. Iterations:       6.0000                                           \n",
       "-----------------------------------------------------------------------\n",
       "                         Coef.  Std.Err.    z    P>|z|   [0.025  0.975]\n",
       "-----------------------------------------------------------------------\n",
       "Intercept                0.8883   0.0985  9.0214 0.0000  0.6953  1.0813\n",
       "book4_A_Feast_For_Crows  1.6680   0.1334 12.5046 0.0000  1.4066  1.9295\n",
       "book3_A_Storm_Of_Swords -0.3130   0.1363 -2.2973 0.0216 -0.5801 -0.0460\n",
       "isNoble                 -0.1898   0.1150 -1.6502 0.0989 -0.4152  0.0356\n",
       "book2_A_Clash_Of_Kings  -0.2367   0.1333 -1.7747 0.0759 -0.4980  0.0247\n",
       "book1_A_Game_Of_Thrones -0.5735   0.1452 -3.9483 0.0001 -0.8582 -0.2888\n",
       "popularity              -1.4584   0.4207 -3.4668 0.0005 -2.2829 -0.6339\n",
       "numDeadRelations        -0.1443   0.0485 -2.9734 0.0029 -0.2395 -0.0492\n",
       "=======================================================================\n",
       "\n",
       "\"\"\""
      ]
     },
     "execution_count": 12,
     "metadata": {},
     "output_type": "execute_result"
    }
   ],
   "source": [
    "# instantiating a logistic regression model object\n",
    "logit_full = smf.logit(formula = \"\"\" isAlive~\n",
    "                                    book4_A_Feast_For_Crows+\n",
    "                                    book3_A_Storm_Of_Swords+\n",
    "                                    isNoble+\n",
    "                                    book2_A_Clash_Of_Kings+\n",
    "                                    book1_A_Game_Of_Thrones+\n",
    "                                    popularity+\n",
    "                                    numDeadRelations\"\"\",\n",
    "                                     data    = GOT)\n",
    "\n",
    "\n",
    "# fitting the model object\n",
    "logit_full = logit_full.fit()\n",
    "\n",
    "\n",
    "# checking the results SUMMARY\n",
    "logit_full. summary2()"
   ]
  },
  {
   "cell_type": "code",
   "execution_count": 13,
   "id": "5e17ded2",
   "metadata": {},
   "outputs": [
    {
     "name": "stdout",
     "output_type": "stream",
     "text": [
      "Optimization terminated successfully.\n",
      "         Current function value: 0.486375\n",
      "         Iterations 7\n"
     ]
    },
    {
     "data": {
      "text/html": [
       "<table class=\"simpletable\">\n",
       "<tr>\n",
       "        <td>Model:</td>              <td>Logit</td>      <td>Pseudo R-squared:</td>    <td>0.142</td>  \n",
       "</tr>\n",
       "<tr>\n",
       "  <td>Dependent Variable:</td>      <td>isAlive</td>           <td>AIC:</td>         <td>1910.9704</td>\n",
       "</tr>\n",
       "<tr>\n",
       "         <td>Date:</td>        <td>2021-12-05 17:17</td>       <td>BIC:</td>         <td>1961.1322</td>\n",
       "</tr>\n",
       "<tr>\n",
       "   <td>No. Observations:</td>        <td>1946</td>        <td>Log-Likelihood:</td>    <td>-946.49</td> \n",
       "</tr>\n",
       "<tr>\n",
       "       <td>Df Model:</td>              <td>8</td>            <td>LL-Null:</td>        <td>-1103.5</td> \n",
       "</tr>\n",
       "<tr>\n",
       "     <td>Df Residuals:</td>          <td>1937</td>         <td>LLR p-value:</td>    <td>4.0614e-63</td>\n",
       "</tr>\n",
       "<tr>\n",
       "      <td>Converged:</td>           <td>1.0000</td>           <td>Scale:</td>         <td>1.0000</td>  \n",
       "</tr>\n",
       "<tr>\n",
       "    <td>No. Iterations:</td>        <td>7.0000</td>              <td></td>               <td></td>     \n",
       "</tr>\n",
       "</table>\n",
       "<table class=\"simpletable\">\n",
       "<tr>\n",
       "             <td></td>              <th>Coef.</th>  <th>Std.Err.</th>    <th>z</th>     <th>P>|z|</th> <th>[0.025</th>  <th>0.975]</th> \n",
       "</tr>\n",
       "<tr>\n",
       "  <th>Intercept</th>               <td>1.1852</td>   <td>0.1127</td>  <td>10.5159</td> <td>0.0000</td> <td>0.9643</td>  <td>1.4061</td> \n",
       "</tr>\n",
       "<tr>\n",
       "  <th>book4_A_Feast_For_Crows</th> <td>1.3027</td>   <td>0.1475</td>  <td>8.8338</td>  <td>0.0000</td> <td>1.0137</td>  <td>1.5917</td> \n",
       "</tr>\n",
       "<tr>\n",
       "  <th>book3_A_Storm_Of_Swords</th> <td>-0.3703</td>  <td>0.1389</td>  <td>-2.6662</td> <td>0.0077</td> <td>-0.6425</td> <td>-0.0981</td>\n",
       "</tr>\n",
       "<tr>\n",
       "  <th>isNoble</th>                 <td>-0.2041</td>  <td>0.1182</td>  <td>-1.7272</td> <td>0.0841</td> <td>-0.4358</td> <td>0.0275</td> \n",
       "</tr>\n",
       "<tr>\n",
       "  <th>book2_A_Clash_Of_Kings</th>  <td>-0.3175</td>  <td>0.1354</td>  <td>-2.3452</td> <td>0.0190</td> <td>-0.5828</td> <td>-0.0522</td>\n",
       "</tr>\n",
       "<tr>\n",
       "  <th>book1_A_Game_Of_Thrones</th> <td>-0.7117</td>  <td>0.1480</td>  <td>-4.8087</td> <td>0.0000</td> <td>-1.0018</td> <td>-0.4216</td>\n",
       "</tr>\n",
       "<tr>\n",
       "  <th>popularity</th>              <td>-5.8160</td>  <td>1.0598</td>  <td>-5.4878</td> <td>0.0000</td> <td>-7.8931</td> <td>-3.7388</td>\n",
       "</tr>\n",
       "<tr>\n",
       "  <th>long_term_pop</th>           <td>5.8179</td>   <td>1.1287</td>  <td>5.1544</td>  <td>0.0000</td> <td>3.6057</td>  <td>8.0302</td> \n",
       "</tr>\n",
       "<tr>\n",
       "  <th>numDeadRelations</th>        <td>-0.1398</td>  <td>0.0521</td>  <td>-2.6844</td> <td>0.0073</td> <td>-0.2418</td> <td>-0.0377</td>\n",
       "</tr>\n",
       "</table>"
      ],
      "text/plain": [
       "<class 'statsmodels.iolib.summary2.Summary'>\n",
       "\"\"\"\n",
       "                            Results: Logit\n",
       "=======================================================================\n",
       "Model:                Logit              Pseudo R-squared:   0.142     \n",
       "Dependent Variable:   isAlive            AIC:                1910.9704 \n",
       "Date:                 2021-12-05 17:17   BIC:                1961.1322 \n",
       "No. Observations:     1946               Log-Likelihood:     -946.49   \n",
       "Df Model:             8                  LL-Null:            -1103.5   \n",
       "Df Residuals:         1937               LLR p-value:        4.0614e-63\n",
       "Converged:            1.0000             Scale:              1.0000    \n",
       "No. Iterations:       7.0000                                           \n",
       "-----------------------------------------------------------------------\n",
       "                         Coef.  Std.Err.    z    P>|z|   [0.025  0.975]\n",
       "-----------------------------------------------------------------------\n",
       "Intercept                1.1852   0.1127 10.5159 0.0000  0.9643  1.4061\n",
       "book4_A_Feast_For_Crows  1.3027   0.1475  8.8338 0.0000  1.0137  1.5917\n",
       "book3_A_Storm_Of_Swords -0.3703   0.1389 -2.6662 0.0077 -0.6425 -0.0981\n",
       "isNoble                 -0.2041   0.1182 -1.7272 0.0841 -0.4358  0.0275\n",
       "book2_A_Clash_Of_Kings  -0.3175   0.1354 -2.3452 0.0190 -0.5828 -0.0522\n",
       "book1_A_Game_Of_Thrones -0.7117   0.1480 -4.8087 0.0000 -1.0018 -0.4216\n",
       "popularity              -5.8160   1.0598 -5.4878 0.0000 -7.8931 -3.7388\n",
       "long_term_pop            5.8179   1.1287  5.1544 0.0000  3.6057  8.0302\n",
       "numDeadRelations        -0.1398   0.0521 -2.6844 0.0073 -0.2418 -0.0377\n",
       "=======================================================================\n",
       "\n",
       "\"\"\""
      ]
     },
     "execution_count": 13,
     "metadata": {},
     "output_type": "execute_result"
    }
   ],
   "source": [
    "# instantiating a logistic regression model object\n",
    "logit_full = smf.logit(formula = \"\"\" isAlive~\n",
    "                                    book4_A_Feast_For_Crows+\n",
    "                                    book3_A_Storm_Of_Swords+\n",
    "                                    isNoble+\n",
    "                                    book2_A_Clash_Of_Kings+\n",
    "                                    book1_A_Game_Of_Thrones+\n",
    "                                    popularity+\n",
    "                                    long_term_pop+\n",
    "                                    numDeadRelations\"\"\",\n",
    "                                     data    = GOT)\n",
    "\n",
    "\n",
    "# fitting the model object\n",
    "logit_full = logit_full.fit()\n",
    "\n",
    "\n",
    "# checking the results SUMMARY\n",
    "logit_full. summary2()"
   ]
  },
  {
   "cell_type": "code",
   "execution_count": 14,
   "id": "8cabc09b",
   "metadata": {},
   "outputs": [
    {
     "name": "stdout",
     "output_type": "stream",
     "text": [
      "Optimization terminated successfully.\n",
      "         Current function value: 0.493129\n",
      "         Iterations 7\n"
     ]
    },
    {
     "data": {
      "text/html": [
       "<table class=\"simpletable\">\n",
       "<tr>\n",
       "        <td>Model:</td>              <td>Logit</td>      <td>Pseudo R-squared:</td>    <td>0.130</td>  \n",
       "</tr>\n",
       "<tr>\n",
       "  <td>Dependent Variable:</td>      <td>isAlive</td>           <td>AIC:</td>         <td>1929.2563</td>\n",
       "</tr>\n",
       "<tr>\n",
       "         <td>Date:</td>        <td>2021-12-05 17:17</td>       <td>BIC:</td>         <td>1957.1239</td>\n",
       "</tr>\n",
       "<tr>\n",
       "   <td>No. Observations:</td>        <td>1946</td>        <td>Log-Likelihood:</td>    <td>-959.63</td> \n",
       "</tr>\n",
       "<tr>\n",
       "       <td>Df Model:</td>              <td>4</td>            <td>LL-Null:</td>        <td>-1103.5</td> \n",
       "</tr>\n",
       "<tr>\n",
       "     <td>Df Residuals:</td>          <td>1941</td>         <td>LLR p-value:</td>    <td>4.5640e-61</td>\n",
       "</tr>\n",
       "<tr>\n",
       "      <td>Converged:</td>           <td>1.0000</td>           <td>Scale:</td>         <td>1.0000</td>  \n",
       "</tr>\n",
       "<tr>\n",
       "    <td>No. Iterations:</td>        <td>7.0000</td>              <td></td>               <td></td>     \n",
       "</tr>\n",
       "</table>\n",
       "<table class=\"simpletable\">\n",
       "<tr>\n",
       "             <td></td>              <th>Coef.</th>  <th>Std.Err.</th>    <th>z</th>     <th>P>|z|</th> <th>[0.025</th>  <th>0.975]</th> \n",
       "</tr>\n",
       "<tr>\n",
       "  <th>Intercept</th>               <td>0.9574</td>   <td>0.0938</td>  <td>10.2015</td> <td>0.0000</td> <td>0.7735</td>  <td>1.1413</td> \n",
       "</tr>\n",
       "<tr>\n",
       "  <th>book4_A_Feast_For_Crows</th> <td>1.1266</td>   <td>0.1348</td>  <td>8.3553</td>  <td>0.0000</td> <td>0.8623</td>  <td>1.3909</td> \n",
       "</tr>\n",
       "<tr>\n",
       "  <th>book1_A_Game_Of_Thrones</th> <td>-0.8744</td>  <td>0.1416</td>  <td>-6.1748</td> <td>0.0000</td> <td>-1.1519</td> <td>-0.5968</td>\n",
       "</tr>\n",
       "<tr>\n",
       "  <th>popularity</th>              <td>-6.6342</td>  <td>1.0429</td>  <td>-6.3613</td> <td>0.0000</td> <td>-8.6782</td> <td>-4.5902</td>\n",
       "</tr>\n",
       "<tr>\n",
       "  <th>long_term_pop</th>           <td>5.4641</td>   <td>1.1198</td>  <td>4.8794</td>  <td>0.0000</td> <td>3.2692</td>  <td>7.6589</td> \n",
       "</tr>\n",
       "</table>"
      ],
      "text/plain": [
       "<class 'statsmodels.iolib.summary2.Summary'>\n",
       "\"\"\"\n",
       "                            Results: Logit\n",
       "=======================================================================\n",
       "Model:                Logit              Pseudo R-squared:   0.130     \n",
       "Dependent Variable:   isAlive            AIC:                1929.2563 \n",
       "Date:                 2021-12-05 17:17   BIC:                1957.1239 \n",
       "No. Observations:     1946               Log-Likelihood:     -959.63   \n",
       "Df Model:             4                  LL-Null:            -1103.5   \n",
       "Df Residuals:         1941               LLR p-value:        4.5640e-61\n",
       "Converged:            1.0000             Scale:              1.0000    \n",
       "No. Iterations:       7.0000                                           \n",
       "-----------------------------------------------------------------------\n",
       "                         Coef.  Std.Err.    z    P>|z|   [0.025  0.975]\n",
       "-----------------------------------------------------------------------\n",
       "Intercept                0.9574   0.0938 10.2015 0.0000  0.7735  1.1413\n",
       "book4_A_Feast_For_Crows  1.1266   0.1348  8.3553 0.0000  0.8623  1.3909\n",
       "book1_A_Game_Of_Thrones -0.8744   0.1416 -6.1748 0.0000 -1.1519 -0.5968\n",
       "popularity              -6.6342   1.0429 -6.3613 0.0000 -8.6782 -4.5902\n",
       "long_term_pop            5.4641   1.1198  4.8794 0.0000  3.2692  7.6589\n",
       "=======================================================================\n",
       "\n",
       "\"\"\""
      ]
     },
     "execution_count": 14,
     "metadata": {},
     "output_type": "execute_result"
    }
   ],
   "source": [
    "# instantiating a logistic regression model object\n",
    "logit_full = smf.logit(formula = \"\"\" isAlive~\n",
    "                                    book4_A_Feast_For_Crows+\n",
    "                                    book1_A_Game_Of_Thrones+\n",
    "                                    popularity+\n",
    "                                    long_term_pop\"\"\",\n",
    "                                     data    = GOT)\n",
    "\n",
    "\n",
    "# fitting the model object\n",
    "logit_full = logit_full.fit()\n",
    "\n",
    "\n",
    "# checking the results SUMMARY\n",
    "logit_full. summary2()"
   ]
  },
  {
   "cell_type": "markdown",
   "id": "1845b57d",
   "metadata": {},
   "source": [
    "## Candidate models"
   ]
  },
  {
   "cell_type": "code",
   "execution_count": 15,
   "id": "50760a14",
   "metadata": {},
   "outputs": [],
   "source": [
    "# creating a dictionary to store candidate models\n",
    "\n",
    "candidate_dict = {\n",
    "\n",
    " # full model\n",
    " 'full'   : ['book4_A_Feast_For_Crows', 'book5_A_Dance_with_Dragons', \n",
    "            'book3_A_Storm_Of_Swords', 'isNoble', 'isMarried',\n",
    "            'book2_A_Clash_Of_Kings', 'book1_A_Game_Of_Thrones', \n",
    "            'popularity', 'long_term_pop','numDeadRelations'],\n",
    " \n",
    " # significant variables only (set 1)\n",
    " 'sig'    : ['book4_A_Feast_For_Crows','book3_A_Storm_Of_Swords',\n",
    "             'isNoble','book2_A_Clash_Of_Kings',\n",
    "             'book1_A_Game_Of_Thrones','popularity',\n",
    "             'numDeadRelations'],\n",
    "    \n",
    " # significant variables only (set 2)\n",
    " 'sig_2'  : ['book4_A_Feast_For_Crows','book3_A_Storm_Of_Swords',\n",
    "             'isNoble','book2_A_Clash_Of_Kings',\n",
    "             'book1_A_Game_Of_Thrones','popularity','long_term_pop',\n",
    "             'numDeadRelations'],\n",
    "    \n",
    "# significant variables only (set 3)\n",
    " 'sig_3'  : ['book4_A_Feast_For_Crows',\n",
    "             'book1_A_Game_Of_Thrones','popularity','long_term_pop'],\n",
    "    \n",
    "# significant variables only (set 4)\n",
    " 'sig_4'  : ['book4_A_Feast_For_Crows',\n",
    "             'book1_A_Game_Of_Thrones','popularity','long_term_pop', 'imp']\n",
    "    \n",
    "}"
   ]
  },
  {
   "cell_type": "markdown",
   "id": "46dd0146",
   "metadata": {},
   "source": [
    "## Declaring variables"
   ]
  },
  {
   "cell_type": "code",
   "execution_count": 16,
   "id": "bba7da2c",
   "metadata": {},
   "outputs": [],
   "source": [
    "# declaring response variable\n",
    "GOT_target = GOT.loc[ : , 'isAlive']"
   ]
  },
  {
   "cell_type": "markdown",
   "id": "496a9b81",
   "metadata": {},
   "source": [
    "# Logistic Regression"
   ]
  },
  {
   "cell_type": "code",
   "execution_count": 17,
   "id": "7f0aeb5d",
   "metadata": {},
   "outputs": [],
   "source": [
    "# declaring explanatory variables\n",
    "GOT_data_log = GOT.loc[: , candidate_dict['sig_4']]"
   ]
  },
  {
   "cell_type": "code",
   "execution_count": 18,
   "id": "730004bb",
   "metadata": {
    "code_folding": []
   },
   "outputs": [],
   "source": [
    "# train-test split\n",
    "X_log_train, X_log_test, y_log_train, y_log_test = train_test_split(\n",
    "            GOT_data_log,\n",
    "            GOT_target,\n",
    "            test_size    = 0.10,\n",
    "            random_state = 219,\n",
    "            stratify     = GOT_target)"
   ]
  },
  {
   "cell_type": "markdown",
   "id": "260e719a",
   "metadata": {},
   "source": [
    "## Hyperparameter Tuning"
   ]
  },
  {
   "cell_type": "code",
   "execution_count": 19,
   "id": "27ebd007",
   "metadata": {},
   "outputs": [
    {
     "name": "stdout",
     "output_type": "stream",
     "text": [
      "Tuned Parameters  : {'warm_start': True, 'solver': 'newton-cg', 'C': 3.9000000000000004}\n",
      "Tuned CV AUC      : 0.6016\n"
     ]
    }
   ],
   "source": [
    "# declaring a hyperparameter space\n",
    "C_range          = np.arange(0.1, 5.0, 0.1)\n",
    "warm_start_range = [True, False]\n",
    "solver_range     = ['newton-cg', 'sag', 'lbfgs']\n",
    "\n",
    "\n",
    "# creating a hyperparameter grid\n",
    "param_grid = {'C'          : C_range,\n",
    "              'warm_start' : warm_start_range,\n",
    "              'solver'     : solver_range}\n",
    "\n",
    "\n",
    "# INSTANTIATING the model object without hyperparameters\n",
    "lr_tuned = LogisticRegression(random_state = 219,\n",
    "                              max_iter     = 1000) # increased for convergence\n",
    "\n",
    "\n",
    "# GridSearchCV object\n",
    "lr_tuned_cv = RandomizedSearchCV(estimator           = lr_tuned,   # the model object\n",
    "                                 param_distributions = param_grid, # parameters to tune\n",
    "                                 cv                  = 3,          # how many folds in cross-validation\n",
    "                                 n_iter              = 250,        # number of combinations of hyperparameters to try\n",
    "                                 random_state        = 219,        # starting point for random sequence\n",
    "                                 scoring = make_scorer(\n",
    "                                           roc_auc_score,\n",
    "                                           needs_threshold = False)) # scoring criteria (AUC)\n",
    "\n",
    "\n",
    "# FITTING to the FULL DATASET (due to cross-validation)\n",
    "lr_tuned_cv.fit(GOT_data_log, GOT_target)\n",
    "\n",
    "# printing the optimal parameters and best score\n",
    "print(\"Tuned Parameters  :\", lr_tuned_cv.best_params_)\n",
    "print(\"Tuned CV AUC      :\", lr_tuned_cv.best_score_.round(4))"
   ]
  },
  {
   "cell_type": "markdown",
   "id": "a1f3e4fe",
   "metadata": {},
   "source": [
    "## Model"
   ]
  },
  {
   "cell_type": "code",
   "execution_count": 20,
   "id": "31349a92",
   "metadata": {},
   "outputs": [
    {
     "name": "stdout",
     "output_type": "stream",
     "text": [
      "LR Tuned Training ACCURACY: 0.7773\n",
      "LR Tuned Testing  ACCURACY: 0.8564\n",
      "LR Tuned AUC Score        : 0.7397\n"
     ]
    }
   ],
   "source": [
    "# INSTANTIATING a logistic regression model with tuned values\n",
    "lr_tuned = LogisticRegression(C            = 4.8,\n",
    "                              warm_start   = False,\n",
    "                              solver       = 'lbfgs',\n",
    "                              max_iter     = 1000,\n",
    "                              random_state = 219)\n",
    "\n",
    "\n",
    "# FITTING the model to the full dataset\n",
    "lr_tuned.fit(GOT_data_log, GOT_target) # this is ok because already tuned\n",
    "\n",
    "\n",
    "# PREDICTING based on the testing set\n",
    "lr_tuned_pred = lr_tuned.predict(X_log_test)\n",
    "\n",
    "\n",
    "# SCORING the results\n",
    "print('LR Tuned Training ACCURACY:', lr_tuned.score(X_log_train, y_log_train).round(4))\n",
    "print('LR Tuned Testing  ACCURACY:', lr_tuned.score(X_log_test, y_log_test).round(4))\n",
    "print('LR Tuned AUC Score        :', roc_auc_score(y_true  = y_log_test,\n",
    "                                          y_score = lr_tuned_pred).round(4))\n",
    "\n",
    "\n",
    "# saving scoring data for future use\n",
    "lr_tuned_train_score = lr_tuned.score(X_log_train, y_log_train).round(4) # accuracy\n",
    "lr_tuned_test_score  = lr_tuned.score(X_log_test, y_log_test).round(4)   # accuracy\n",
    "\n",
    "\n",
    "# saving the AUC score\n",
    "lr_tuned_auc_score         = roc_auc_score(y_true  = y_log_test,\n",
    "                                     y_score = lr_tuned_pred).round(4) # auc"
   ]
  },
  {
   "cell_type": "markdown",
   "id": "bcae624a",
   "metadata": {},
   "source": [
    "## Visualization"
   ]
  },
  {
   "cell_type": "code",
   "execution_count": 21,
   "id": "ed8bb24f",
   "metadata": {},
   "outputs": [],
   "source": [
    "#defining visual confusion matrix\n",
    "def visual_cm(true_y, pred_y, labels = None):\n",
    "    # visualizing the confusion matrix\n",
    "\n",
    "    # setting labels\n",
    "    lbls = labels\n",
    "    \n",
    "    # declaring a confusion matrix object\n",
    "    cm = confusion_matrix(y_true = true_y,\n",
    "                          y_pred = pred_y)\n",
    "\n",
    "    # heatmap\n",
    "    sns.heatmap(cm,\n",
    "                annot       = True,\n",
    "                xticklabels = lbls,\n",
    "                yticklabels = lbls,\n",
    "                cmap        = 'Greens',\n",
    "                fmt         = 'g')\n",
    "    \n",
    "    # heatmap labels\n",
    "    plt.xlabel('Predicted')\n",
    "    plt.ylabel('Actual')\n",
    "    plt.title('Confusion Matrix of the Classifier')\n",
    "    plt.show()"
   ]
  },
  {
   "cell_type": "code",
   "execution_count": 22,
   "id": "1b03fd34",
   "metadata": {},
   "outputs": [
    {
     "name": "stdout",
     "output_type": "stream",
     "text": [
      "\n",
      "True Negatives : 25\n",
      "False Positives: 25\n",
      "False Negatives: 3\n",
      "True Positives : 142\n",
      "\n"
     ]
    }
   ],
   "source": [
    "# unpacking the confusion matrix\n",
    "logreg_tn, \\\n",
    "logreg_fp, \\\n",
    "logreg_fn, \\\n",
    "logreg_tp = confusion_matrix(y_true = y_log_test, y_pred = lr_tuned_pred).ravel()\n",
    "\n",
    "# printing each result one-by-one\n",
    "print(f\"\"\"\n",
    "True Negatives : {logreg_tn}\n",
    "False Positives: {logreg_fp}\n",
    "False Negatives: {logreg_fn}\n",
    "True Positives : {logreg_tp}\n",
    "\"\"\")"
   ]
  },
  {
   "cell_type": "markdown",
   "id": "e7d78eb2",
   "metadata": {},
   "source": [
    "### Confusion Matrix"
   ]
  },
  {
   "cell_type": "code",
   "execution_count": 23,
   "id": "b2956394",
   "metadata": {},
   "outputs": [
    {
     "data": {
      "image/png": "[encoded data removed]",
      "text/plain": [
       "<Figure size 432x288 with 2 Axes>"
      ]
     },
     "metadata": {
      "needs_background": "light"
     },
     "output_type": "display_data"
    }
   ],
   "source": [
    "# calling the visual_cm function\n",
    "visual_cm(true_y = y_log_test,\n",
    "          pred_y = lr_tuned_pred,\n",
    "          labels = ['Alive', 'Not Alive'])"
   ]
  },
  {
   "cell_type": "markdown",
   "id": "f254cb71",
   "metadata": {},
   "source": [
    "# Classification Tree (CART Model)"
   ]
  },
  {
   "cell_type": "code",
   "execution_count": 24,
   "id": "5698807a",
   "metadata": {},
   "outputs": [],
   "source": [
    "# declaring explanatory variables\n",
    "GOT_data_Tree = GOT.loc[: , candidate_dict['full']]\n",
    "\n",
    "# train-test split\n",
    "X_Tree_train, X_Tree_test, y_Tree_train, y_Tree_test = train_test_split(\n",
    "            GOT_data_Tree,\n",
    "            GOT_target,\n",
    "            test_size    = 0.10,\n",
    "            random_state = 219,\n",
    "            stratify     = GOT_target)"
   ]
  },
  {
   "cell_type": "markdown",
   "id": "d6a5b8a2",
   "metadata": {},
   "source": [
    "## Hyperparameter Tuning"
   ]
  },
  {
   "cell_type": "code",
   "execution_count": 25,
   "id": "2e6774ea",
   "metadata": {},
   "outputs": [
    {
     "name": "stdout",
     "output_type": "stream",
     "text": [
      "Tuned Parameters  : {'splitter': 'best', 'min_samples_leaf': 12, 'max_depth': 5, 'criterion': 'entropy'}\n",
      "Tuned Training AUC: 0.6699\n"
     ]
    }
   ],
   "source": [
    "# declaring a hyperparameter space\n",
    "criterion_range = ['gini', 'entropy']\n",
    "splitter_range  = ['best', 'random']\n",
    "depth_range     = np.arange(1, 25, 1)\n",
    "leaf_range      = np.arange(1, 100, 1)\n",
    "\n",
    "\n",
    "# creating a hyperparameter grid\n",
    "param_grid = {'criterion'        : criterion_range,\n",
    "              'splitter'         : splitter_range,\n",
    "              'max_depth'        : depth_range,\n",
    "              'min_samples_leaf' : leaf_range}\n",
    "\n",
    "\n",
    "# INSTANTIATING the model object without hyperparameters\n",
    "tuned_tree = DecisionTreeClassifier(random_state = 219)\n",
    "\n",
    "\n",
    "# RandomizedSearchCV object\n",
    "tuned_tree_cv = RandomizedSearchCV(estimator             = tuned_tree,\n",
    "                                   param_distributions   = param_grid,\n",
    "                                   cv                    = 3,\n",
    "                                   n_iter                = 1000,\n",
    "                                   random_state          = 219,\n",
    "                                   scoring = make_scorer(roc_auc_score,\n",
    "                                             needs_threshold = False))\n",
    "\n",
    "\n",
    "# FITTING to the FULL DATASET (due to cross-validation)\n",
    "tuned_tree_cv.fit(GOT_data_Tree, GOT_target)\n",
    "\n",
    "# printing the optimal parameters and best score\n",
    "print(\"Tuned Parameters  :\", tuned_tree_cv.best_params_)\n",
    "print(\"Tuned Training AUC:\", tuned_tree_cv.best_score_.round(4))"
   ]
  },
  {
   "cell_type": "markdown",
   "id": "944d5a4c",
   "metadata": {},
   "source": [
    "## Model"
   ]
  },
  {
   "cell_type": "code",
   "execution_count": 26,
   "id": "ee72e355",
   "metadata": {},
   "outputs": [
    {
     "name": "stdout",
     "output_type": "stream",
     "text": [
      "Training ACCURACY: 0.8104\n",
      "Testing  ACCURACY: 0.8769\n",
      "AUC Score        : 0.819\n"
     ]
    }
   ],
   "source": [
    "# INSTANTIATING a logistic regression model with tuned values\n",
    "tree_tuned = DecisionTreeClassifier(splitter         = 'best',\n",
    "                                    min_samples_leaf = 12,\n",
    "                                    max_depth        = 8,\n",
    "                                    criterion        = 'entropy',\n",
    "                                    random_state     = 219)\n",
    "\n",
    "\n",
    "# FITTING to the FULL DATASET (due to cross-validation)\n",
    "tree_tuned_fit = tree_tuned.fit(GOT_data_Tree, GOT_target)\n",
    "\n",
    "\n",
    "# PREDICTING based on the testing set\n",
    "tree_tuned_pred = tree_tuned.predict(X_Tree_test)\n",
    "\n",
    "\n",
    "# SCORING the results\n",
    "print('Training ACCURACY:', tree_tuned.score(X_Tree_train, y_Tree_train).round(4))\n",
    "print('Testing  ACCURACY:', tree_tuned.score(X_Tree_test, y_Tree_test).round(4))\n",
    "print('AUC Score        :', roc_auc_score(y_true  = y_Tree_test,\n",
    "                                          y_score = tree_tuned_pred).round(4))\n",
    "\n",
    "\n",
    "# saving scoring data for future use\n",
    "tree_tuned_train_score = tree_tuned.score(X_Tree_train, y_Tree_train).round(4) # accuracy\n",
    "tree_tuned_test_score  = tree_tuned.score(X_Tree_test, y_Tree_test).round(4)   # accuracy\n",
    "\n",
    "\n",
    "# saving the AUC score\n",
    "tree_tuned_auc_score         = roc_auc_score(y_true  = y_Tree_test,\n",
    "                                       y_score = tree_tuned_pred).round(4) # auc"
   ]
  },
  {
   "cell_type": "markdown",
   "id": "c95207a4",
   "metadata": {},
   "source": [
    "## Visualization"
   ]
  },
  {
   "cell_type": "code",
   "execution_count": 27,
   "id": "2c52b625",
   "metadata": {},
   "outputs": [
    {
     "name": "stdout",
     "output_type": "stream",
     "text": [
      "\n",
      "True Negatives : 35\n",
      "False Positives: 15\n",
      "False Negatives: 9\n",
      "True Positives : 136\n",
      "\n"
     ]
    }
   ],
   "source": [
    "# unpacking the confusion matrix\n",
    "pruned_tree_tn, \\\n",
    "pruned_tree_fp, \\\n",
    "pruned_tree_fn, \\\n",
    "pruned_tree_tp = confusion_matrix(y_true = y_Tree_test, y_pred = tree_tuned_pred).ravel()\n",
    "\n",
    "\n",
    "# printing each result one-by-one\n",
    "print(f\"\"\"\n",
    "True Negatives : {pruned_tree_tn}\n",
    "False Positives: {pruned_tree_fp}\n",
    "False Negatives: {pruned_tree_fn}\n",
    "True Positives : {pruned_tree_tp}\n",
    "\"\"\")"
   ]
  },
  {
   "cell_type": "markdown",
   "id": "80679e59",
   "metadata": {},
   "source": [
    "### Confusion Matrix"
   ]
  },
  {
   "cell_type": "code",
   "execution_count": 28,
   "id": "431ae854",
   "metadata": {},
   "outputs": [
    {
     "data": {
      "image/png": "[encoded data removed]",
      "text/plain": [
       "<Figure size 432x288 with 2 Axes>"
      ]
     },
     "metadata": {
      "needs_background": "light"
     },
     "output_type": "display_data"
    }
   ],
   "source": [
    "# calling the visual_cm function\n",
    "visual_cm(true_y = y_Tree_test,\n",
    "          pred_y = tree_tuned_pred,\n",
    "          labels = ['Alive', 'Not Alive'])"
   ]
  },
  {
   "cell_type": "markdown",
   "id": "3b9d0547",
   "metadata": {},
   "source": [
    "# Random Forest"
   ]
  },
  {
   "cell_type": "code",
   "execution_count": 29,
   "id": "411c19e7",
   "metadata": {},
   "outputs": [],
   "source": [
    "# declaring explanatory variables\n",
    "GOT_data_RF = GOT.loc[: , candidate_dict['full']]\n",
    "\n",
    "# train-test split\n",
    "X_RF_train, X_RF_test, y_RF_train, y_RF_test = train_test_split(\n",
    "            GOT_data_RF,\n",
    "            GOT_target,\n",
    "            test_size    = 0.10,\n",
    "            random_state = 219,\n",
    "            stratify     = GOT_target)"
   ]
  },
  {
   "cell_type": "code",
   "execution_count": 30,
   "id": "fee17354",
   "metadata": {},
   "outputs": [],
   "source": [
    "# INSTANTIATING a random forest model with default values\n",
    "rf_default = RandomForestClassifier(n_estimators     = 100,\n",
    "                                    criterion        = 'gini',\n",
    "                                    max_depth        = 8,\n",
    "                                    min_samples_leaf = 1,\n",
    "                                    bootstrap        = True,\n",
    "                                    warm_start       = False,\n",
    "                                    random_state     = 219)"
   ]
  },
  {
   "cell_type": "markdown",
   "id": "289a207a",
   "metadata": {},
   "source": [
    "## Hyperparameter Tuning"
   ]
  },
  {
   "cell_type": "code",
   "execution_count": 31,
   "id": "d1552387",
   "metadata": {},
   "outputs": [
    {
     "name": "stdout",
     "output_type": "stream",
     "text": [
      "Tuned Parameters  : {'warm_start': False, 'n_estimators': 75, 'min_samples_leaf': 1, 'criterion': 'gini', 'bootstrap': True}\n",
      "Tuned Training AUC: 0.6587\n"
     ]
    }
   ],
   "source": [
    "# FITTING the training data\n",
    "rf_default_fit = rf_default.fit(X_RF_train, y_RF_train)\n",
    "\n",
    "\n",
    "# PREDICTING based on the testing set\n",
    "rf_default_fit_pred = rf_default_fit.predict(X_RF_test)\n",
    "\n",
    "\n",
    "# declaring a hyperparameter space\n",
    "estimator_range  = np.arange(50, 100, 25)\n",
    "leaf_range       = np.arange(1, 100, 10)\n",
    "criterion_range  = ['gini', 'entropy']\n",
    "bootstrap_range  = [True, False]\n",
    "warm_start_range = [True, False]\n",
    "\n",
    "\n",
    "# creating a hyperparameter grid\n",
    "param_grid = {'n_estimators'     : estimator_range,\n",
    "              'min_samples_leaf' : leaf_range,\n",
    "              'criterion'        : criterion_range,\n",
    "              'bootstrap'        : bootstrap_range,\n",
    "              'warm_start'       : warm_start_range}\n",
    "\n",
    "# INSTANTIATING the model object without hyperparameters\n",
    "forest_grid = RandomForestClassifier(random_state = 219)\n",
    "\n",
    "# GridSearchCV object\n",
    "forest_cv = RandomizedSearchCV(estimator           = forest_grid,\n",
    "                               param_distributions = param_grid,\n",
    "                               cv         = 3,\n",
    "                               n_iter     = 50,\n",
    "                               scoring    = make_scorer(roc_auc_score,\n",
    "                                            needs_threshold = False))\n",
    "\n",
    "\n",
    "# FITTING to the FULL DATASET (due to cross-validation)\n",
    "forest_cv.fit(GOT_data_RF, GOT_target)\n",
    "\n",
    "# printing the optimal parameters and best score\n",
    "print(\"Tuned Parameters  :\", forest_cv.best_params_)\n",
    "print(\"Tuned Training AUC:\", forest_cv.best_score_.round(4))"
   ]
  },
  {
   "cell_type": "markdown",
   "id": "5ec6ba5e",
   "metadata": {},
   "source": [
    "## Model"
   ]
  },
  {
   "cell_type": "code",
   "execution_count": 32,
   "id": "66b949cd",
   "metadata": {},
   "outputs": [
    {
     "name": "stdout",
     "output_type": "stream",
     "text": [
      "Forest Tuned Training ACCURACY: 0.8304\n",
      "Forest Tuned Testing  ACCURACY: 0.8974\n",
      "Forest Tuned AUC Score        : 0.8131\n"
     ]
    }
   ],
   "source": [
    "# INSTANTIATING with best_estimator\n",
    "forest_tuned = RandomForestClassifier(criterion        = 'gini',\n",
    "                                      min_samples_leaf = 5,\n",
    "                                      max_depth        = 8,\n",
    "                                      n_estimators     = 75,\n",
    "                                      warm_start       = True,\n",
    "                                      bootstrap        = False,\n",
    "                                      random_state     = 219)\n",
    "\n",
    "\n",
    "# FITTING to the FULL DATASET (due to cross-validation)\n",
    "forest_tuned_fit = forest_tuned.fit(GOT_data_RF, GOT_target)\n",
    "\n",
    "\n",
    "# PREDICTING based on the testing set\n",
    "forest_tuned_pred = forest_tuned_fit.predict(X_RF_test)\n",
    "\n",
    "\n",
    "# SCORING the results\n",
    "print('Forest Tuned Training ACCURACY:', forest_tuned.score(X_RF_train, y_RF_train).round(4))\n",
    "print('Forest Tuned Testing  ACCURACY:', forest_tuned.score(X_RF_test, y_RF_test).round(4))\n",
    "print('Forest Tuned AUC Score        :', roc_auc_score(y_true  = y_RF_test,\n",
    "                                                       y_score = forest_tuned_pred).round(4))\n",
    "\n",
    "\n",
    "# saving scoring data for future use\n",
    "forest_tuned_train_score = forest_tuned.score(X_RF_train, y_RF_train).round(4) # accuracy\n",
    "forest_tuned_test_score  = forest_tuned.score(X_RF_test, y_RF_test).round(4)   # accuracy\n",
    "\n",
    "\n",
    "# saving the AUC score\n",
    "forest_tuned_auc = roc_auc_score(y_true  = y_RF_test,\n",
    "                                 y_score = forest_tuned_pred).round(4) # auc"
   ]
  },
  {
   "cell_type": "markdown",
   "id": "4b588790",
   "metadata": {},
   "source": [
    "## Visualization"
   ]
  },
  {
   "cell_type": "code",
   "execution_count": 33,
   "id": "8bfe164e",
   "metadata": {},
   "outputs": [
    {
     "name": "stdout",
     "output_type": "stream",
     "text": [
      "\n",
      "True Negatives : 32\n",
      "False Positives: 18\n",
      "False Negatives: 2\n",
      "True Positives : 143\n",
      "\n"
     ]
    }
   ],
   "source": [
    "# unpacking the confusion matrix\n",
    "tuned_rf_tn, \\\n",
    "tuned_rf_fp, \\\n",
    "tuned_rf_fn, \\\n",
    "tuned_rf_tp = confusion_matrix(y_true = y_RF_test, y_pred = forest_tuned_pred).ravel()\n",
    "\n",
    "\n",
    "# printing each result one-by-one\n",
    "print(f\"\"\"\n",
    "True Negatives : {tuned_rf_tn}\n",
    "False Positives: {tuned_rf_fp}\n",
    "False Negatives: {tuned_rf_fn}\n",
    "True Positives : {tuned_rf_tp}\n",
    "\"\"\")"
   ]
  },
  {
   "cell_type": "code",
   "execution_count": 34,
   "id": "82f10e32",
   "metadata": {},
   "outputs": [
    {
     "data": {
      "image/png": "[encoded data removed]",
      "text/plain": [
       "<Figure size 432x288 with 2 Axes>"
      ]
     },
     "metadata": {
      "needs_background": "light"
     },
     "output_type": "display_data"
    }
   ],
   "source": [
    "# calling the visual_cm function\n",
    "visual_cm(true_y = y_RF_test,\n",
    "          pred_y = forest_tuned_pred,\n",
    "          labels = ['Alive', 'Not Alive'])"
   ]
  },
  {
   "cell_type": "markdown",
   "id": "3b60be12",
   "metadata": {},
   "source": [
    "# Gradient Boosting"
   ]
  },
  {
   "cell_type": "code",
   "execution_count": 35,
   "id": "b5b3fc5c",
   "metadata": {},
   "outputs": [],
   "source": [
    "# declaring explanatory variables\n",
    "GOT_data_GB = GOT.loc[: , candidate_dict['sig']]\n",
    "\n",
    "# train-test split\n",
    "X_GB_train, X_GB_test, y_GB_train, y_GB_test = train_test_split(\n",
    "            GOT_data_GB,\n",
    "            GOT_target,\n",
    "            test_size    = 0.10,\n",
    "            random_state = 219,\n",
    "            stratify     = GOT_target)"
   ]
  },
  {
   "cell_type": "markdown",
   "id": "9570cbcc",
   "metadata": {},
   "source": [
    "## Hyperparameter Tuning"
   ]
  },
  {
   "cell_type": "code",
   "execution_count": 36,
   "id": "39a3d7dd",
   "metadata": {},
   "outputs": [
    {
     "name": "stdout",
     "output_type": "stream",
     "text": [
      "Tuned Parameters  : {'warm_start': False, 'n_estimators': 75, 'max_depth': 2, 'learning_rate': 0.1}\n",
      "Tuned Training AUC: 0.6556\n"
     ]
    }
   ],
   "source": [
    "# declaring a hyperparameter space\n",
    "learn_range        = np.arange(0.1, 2.2, 0.5)\n",
    "estimator_range    = np.arange(50, 100, 25)\n",
    "depth_range        = np.arange(2, 11, 2)\n",
    "warm_start_range   = [True, False]\n",
    "\n",
    "# creating a hyperparameter grid\n",
    "param_grid = {'learning_rate' : learn_range,\n",
    "              'max_depth'     : depth_range,\n",
    "              'n_estimators'  : estimator_range,\n",
    "              'warm_start'    : warm_start_range}\n",
    "\n",
    "\n",
    "# INSTANTIATING the model object without hyperparameters\n",
    "full_gbm_grid = GradientBoostingClassifier(random_state = 219)\n",
    "\n",
    "\n",
    "# GridSearchCV object\n",
    "full_gbm_cv = RandomizedSearchCV(estimator     = full_gbm_grid,\n",
    "                           param_distributions = param_grid,\n",
    "                           cv                  = 3,\n",
    "                           n_iter              = 50,\n",
    "                           random_state        = 219,\n",
    "                           scoring             = make_scorer(roc_auc_score,\n",
    "                                                 needs_threshold = False))\n",
    "\n",
    "\n",
    "# FITTING to the FULL DATASET (due to cross-validation)\n",
    "full_gbm_cv.fit(GOT_data_GB, GOT_target)\n",
    "\n",
    "\n",
    "# PREDICT step is not needed\n",
    "\n",
    "\n",
    "# printing the optimal parameters and best score\n",
    "print(\"Tuned Parameters  :\", full_gbm_cv.best_params_)\n",
    "print(\"Tuned Training AUC:\", full_gbm_cv.best_score_.round(4))"
   ]
  },
  {
   "cell_type": "markdown",
   "id": "7a607a8e",
   "metadata": {},
   "source": [
    "## Model"
   ]
  },
  {
   "cell_type": "code",
   "execution_count": 37,
   "id": "2e7b92f0",
   "metadata": {},
   "outputs": [
    {
     "name": "stdout",
     "output_type": "stream",
     "text": [
      "Training ACCURACY: 0.8806\n",
      "Testing  ACCURACY: 0.9282\n",
      "AUC Score        : 0.8731\n"
     ]
    }
   ],
   "source": [
    "# INSTANTIATING with best_estimator\n",
    "gbm_tuned = GradientBoostingClassifier(learning_rate = 0.1,\n",
    "                                       max_depth     = 8,\n",
    "                                       n_estimators  = 50,\n",
    "                                       warm_start    = False,\n",
    "                                       random_state  = 219)\n",
    "\n",
    "\n",
    "# FITTING to the FULL DATASET (due to cross-validation)\n",
    "gbm_tuned_fit = gbm_tuned.fit(GOT_data_GB, GOT_target)\n",
    "\n",
    "\n",
    "# PREDICTING based on the testing set\n",
    "gbm_tuned_pred = gbm_tuned_fit.predict(X_GB_test)\n",
    "\n",
    "\n",
    "# SCORING the results\n",
    "print('Training ACCURACY:', gbm_tuned_fit.score(X_GB_train, y_GB_train).round(4))\n",
    "print('Testing  ACCURACY:', gbm_tuned_fit.score(X_GB_test, y_GB_test).round(4))\n",
    "print('AUC Score        :', roc_auc_score(y_true  = y_GB_test,\n",
    "                                          y_score = gbm_tuned_pred).round(4))\n",
    "\n",
    "# saving scoring data for future use\n",
    "gbm_tuned_train_score = gbm_tuned.score(X_GB_train, y_GB_train).round(4) # accuracy\n",
    "gbm_tuned_test_score  = gbm_tuned.score(X_GB_test, y_GB_test).round(4)   # accuracy\n",
    "\n",
    "# saving the AUC score\n",
    "gbm_auc_score = roc_auc_score(y_true  = y_GB_test,\n",
    "                                 y_score = gbm_tuned_pred).round(4) # auc"
   ]
  },
  {
   "cell_type": "markdown",
   "id": "e4d2eab1",
   "metadata": {},
   "source": [
    "# Visualization"
   ]
  },
  {
   "cell_type": "code",
   "execution_count": 38,
   "id": "d3853cf1",
   "metadata": {},
   "outputs": [
    {
     "name": "stdout",
     "output_type": "stream",
     "text": [
      "\n",
      "True Negatives : 38\n",
      "False Positives: 12\n",
      "False Negatives: 2\n",
      "True Positives : 143\n",
      "\n"
     ]
    }
   ],
   "source": [
    "# unpacking the confusion matrix\n",
    "gbm_tuned_tn, \\\n",
    "gbm_tuned_fp, \\\n",
    "gbm_tuned_fn, \\\n",
    "gbm_tuned_tp = confusion_matrix(y_true = y_GB_test, y_pred = gbm_tuned_pred).ravel()\n",
    "\n",
    "\n",
    "# printing each result one-by-one\n",
    "print(f\"\"\"\n",
    "True Negatives : {gbm_tuned_tn}\n",
    "False Positives: {gbm_tuned_fp}\n",
    "False Negatives: {gbm_tuned_fn}\n",
    "True Positives : {gbm_tuned_tp}\n",
    "\"\"\")"
   ]
  },
  {
   "cell_type": "markdown",
   "id": "54d7e270",
   "metadata": {},
   "source": [
    "### Confusion Matrix"
   ]
  },
  {
   "cell_type": "code",
   "execution_count": 39,
   "id": "1befd685",
   "metadata": {},
   "outputs": [
    {
     "data": {
      "image/png": "[encoded data removed]",
      "text/plain": [
       "<Figure size 432x288 with 2 Axes>"
      ]
     },
     "metadata": {
      "needs_background": "light"
     },
     "output_type": "display_data"
    }
   ],
   "source": [
    "# calling the visual_cm function\n",
    "visual_cm(true_y = y_GB_test,\n",
    "          pred_y = gbm_tuned_pred,\n",
    "          labels = ['Alive', 'Not Alive'])"
   ]
  },
  {
   "cell_type": "markdown",
   "id": "62472c39",
   "metadata": {},
   "source": [
    "# Model Comparison"
   ]
  },
  {
   "cell_type": "code",
   "execution_count": 45,
   "id": "b3ecc859",
   "metadata": {},
   "outputs": [
    {
     "name": "stdout",
     "output_type": "stream",
     "text": [
      "\n",
      "Model                              Training     Testing     AUC Score    TN, FP, FN, TP\n",
      "-----                              ---------    --------    ---------    --------------\n",
      "Logistic                           0.7773       0.8564      0.7397       (25, 25, 3, 142)\n",
      "CART                               0.8104       0.8769      0.819        (35, 15, 9, 136)\n",
      "Random Forest                      0.8304       0.8974      0.8131       (32, 18, 2, 143)\n",
      "Gradient Boosting (FINAL MODEL)    0.8806       0.9282      0.8731       (38, 12, 2, 143)\n",
      "\n"
     ]
    }
   ],
   "source": [
    "# comparing results\n",
    "print(f\"\"\"\n",
    "Model                              Training     Testing     AUC Score    TN, FP, FN, TP\n",
    "-----                              ---------    --------    ---------    --------------\n",
    "Logistic                           {lr_tuned_train_score}       {lr_tuned_test_score}      {lr_tuned_auc_score}       {logreg_tn, logreg_fp, logreg_fn, logreg_tp}\n",
    "CART                               {tree_tuned_train_score}       {tree_tuned_test_score}      {tree_tuned_auc_score}        {pruned_tree_tn, pruned_tree_fp, pruned_tree_fn, pruned_tree_tp}\n",
    "Random Forest                      {forest_tuned_train_score}       {forest_tuned_test_score}      {forest_tuned_auc}       {tuned_rf_tn, tuned_rf_fp, tuned_rf_fn, tuned_rf_tp}\n",
    "Gradient Boosting (FINAL MODEL)    {gbm_tuned_train_score}       {gbm_tuned_test_score}      {gbm_auc_score}       {gbm_tuned_tn, gbm_tuned_fp, gbm_tuned_fn, gbm_tuned_tp}\n",
    "\"\"\")"
   ]
  }
 ],
 "metadata": {
  "kernelspec": {
   "display_name": "Python 3",
   "language": "python",
   "name": "python3"
  },
  "language_info": {
   "codemirror_mode": {
    "name": "ipython",
    "version": 3
   },
   "file_extension": ".py",
   "mimetype": "text/x-python",
   "name": "python",
   "nbconvert_exporter": "python",
   "pygments_lexer": "ipython3",
   "version": "3.7.6"
  },
  "toc": {
   "base_numbering": 1,
   "nav_menu": {},
   "number_sections": true,
   "sideBar": true,
   "skip_h1_title": false,
   "title_cell": "Table of Contents",
   "title_sidebar": "Contents",
   "toc_cell": false,
   "toc_position": {},
   "toc_section_display": true,
   "toc_window_display": false
  },
  "varInspector": {
   "cols": {
    "lenName": 16,
    "lenType": 16,
    "lenVar": 40
   },
   "kernels_config": {
    "python": {
     "delete_cmd_postfix": "",
     "delete_cmd_prefix": "del ",
     "library": "var_list.py",
     "varRefreshCmd": "print(var_dic_list())"
    },
    "r": {
     "delete_cmd_postfix": ") ",
     "delete_cmd_prefix": "rm(",
     "library": "var_list.r",
     "varRefreshCmd": "cat(var_dic_list()) "
    }
   },
   "types_to_exclude": [
    "module",
    "function",
    "builtin_function_or_method",
    "instance",
    "_Feature"
   ],
   "window_display": false
  }
 },
 "nbformat": 4,
 "nbformat_minor": 5
}
